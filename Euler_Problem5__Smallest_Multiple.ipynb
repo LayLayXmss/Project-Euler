{
  "nbformat": 4,
  "nbformat_minor": 0,
  "metadata": {
    "colab": {
      "provenance": [],
      "authorship_tag": "ABX9TyNTQH0LfSYP1YajueGC494U",
      "include_colab_link": true
    },
    "kernelspec": {
      "name": "python3",
      "display_name": "Python 3"
    },
    "language_info": {
      "name": "python"
    }
  },
  "cells": [
    {
      "cell_type": "markdown",
      "metadata": {
        "id": "view-in-github",
        "colab_type": "text"
      },
      "source": [
        "<a href=\"https://colab.research.google.com/github/LayLayXmss/Project-Euler/blob/main/Euler_Problem5__Smallest_Multiple.ipynb\" target=\"_parent\"><img src=\"https://colab.research.google.com/assets/colab-badge.svg\" alt=\"Open In Colab\"/></a>"
      ]
    },
    {
      "cell_type": "code",
      "execution_count": null,
      "metadata": {
        "colab": {
          "base_uri": "https://localhost:8080/"
        },
        "id": "tQj31nBhvxi1",
        "outputId": "3e9f333f-bd14-4df5-8fac-b807b157776e"
      },
      "outputs": [
        {
          "output_type": "stream",
          "name": "stdout",
          "text": [
            "yes\n",
            "232792560\n"
          ]
        }
      ],
      "source": [
        "from os import truncate\n",
        "from string import printable\n",
        "# 2520 is the smallest number that can be divided by each of the numbers \n",
        "# from 1 to 10 without any remainder.\n",
        "\n",
        "#What is the smallest positive number that is evenly divisible by all of \n",
        "#the numbers from 1 to 20?\n",
        "\n",
        "a=1\n",
        "\n",
        "#Check a number is divisible in the range from y to z\n",
        "def check_divisible(x,y,z):\n",
        "  for d in range(y,z,1):\n",
        "    if x%d!=0:\n",
        "      return False\n",
        "    #else:          #num is divisible by the range of d\n",
        "      #print(x,d)   \n",
        "  return True\n",
        "\n",
        "#process\n",
        "\n",
        "while True:\n",
        "    if check_divisible(a,2,21)==True:\n",
        "      print(\"yes\")\n",
        "      break\n",
        "    a+=1\n",
        " \n",
        "#output\n",
        "print(a)   \n",
        "\n"
      ]
    }
  ]
}